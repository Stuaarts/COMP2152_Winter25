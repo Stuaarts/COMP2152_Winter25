{
 "cells": [
  {
   "cell_type": "code",
   "execution_count": 1,
   "id": "8e79483a-e0a7-4151-b745-34d4ac5f536c",
   "metadata": {},
   "outputs": [
    {
     "name": "stdout",
     "output_type": "stream",
     "text": [
      "Yoga & Running Minutes: [(30, 45), (40, 30), (20, 35), (25, 25), (30, 45), (40, 30), (20, 35)]\n",
      "Weightlifting Minutes (Last Two): [25, 50]\n"
     ]
    },
    {
     "name": "stdin",
     "output_type": "stream",
     "text": [
      "Enter a friend's name:  Matheus\n"
     ]
    },
    {
     "name": "stdout",
     "output_type": "stream",
     "text": [
      "Matheus's Workout: Yoga: 40 min, Running: 30 min, Weightlifting: 25 min, Total: 95 min\n",
      "Keep pushing, Matheus! You logged 95 minutes. Keep it up!\n",
      "Friend with the highest workout minutes: Lucas\n",
      "Friend with the lowest workout minutes: Davi\n"
     ]
    }
   ],
   "source": [
    "\"\"\"\n",
    "Author: <Lucas Tavares Criscuolo>\n",
    "Student ID: 101500671\n",
    "Assignment: #1\n",
    "\"\"\"\n",
    "\n",
    "# Basic details about a gym member\n",
    "gym_member = \"Alex Alliton\"  # String\n",
    "preferred_weight_kg = 20.5  # float\n",
    "highest_reps = 25  # integer\n",
    "membership_active = True  # boolean\n",
    "\n",
    "# Dictionary storing workout stats (yoga, running, weightlifting) for different friends\n",
    "workout_stats = {\n",
    "    \"Lucas\": (30, 45, 50),  # Lucas did 30 mins yoga, 45 mins running, 50 mins weightlifting\n",
    "    \"Matheus\": (40, 30, 25),\n",
    "    \"Davi\": (20, 35, 20),\n",
    "    \"Giovanna\": (25, 25, 25),\n",
    "    \"Alex\": (30, 45, 20),\n",
    "    \"Jamie\": (40, 30, 25),\n",
    "    \"Taylor\": (20, 35, 50)\n",
    "}\n",
    "\n",
    "# Calculate total minutes spent working out for each friend\n",
    "total_minutes = {name: sum(times) for name, times in workout_stats.items()}\n",
    "\n",
    "# Convert the workout data into a simple list format for easy processing\n",
    "workout_list = list(workout_stats.values())\n",
    "\n",
    "# Get only the yoga & running minutes for all friends\n",
    "yoga_running_minutes = [times[:2] for times in workout_list]\n",
    "print(\"Yoga & Running Minutes:\", yoga_running_minutes)\n",
    "\n",
    "# Get only the weightlifting minutes for the last two friends in the list\n",
    "weightlifting_last_two = [times[2] for times in workout_list[-2:]]\n",
    "print(\"Weightlifting Minutes (Last Two):\", weightlifting_last_two)\n",
    "\n",
    "# Let the user enter a friend's name to check their workout details\n",
    "friend_name = input(\"Enter a friend's name: \")\n",
    "if friend_name in workout_stats:\n",
    "    yoga, running, weightlifting = workout_stats[friend_name]\n",
    "    print(\n",
    "        f\"{friend_name}'s Workout: Yoga: {yoga} min, Running: {running} min, Weightlifting: {weightlifting} min, Total: {total_minutes[friend_name]} min\")\n",
    "\n",
    "    # Check how much this friend worked out and encourage them\n",
    "    if total_minutes[friend_name] >= 120:\n",
    "        print(f\"Great job staying active, {friend_name}!\")\n",
    "    else:\n",
    "        print(f\"Keep pushing, {friend_name}! You logged {total_minutes[friend_name]} minutes. Keep it up!\")\n",
    "else:\n",
    "    print(f\"Friend {friend_name} not found in the records.\")\n",
    "\n",
    "# Find the friend who worked out the most and the least\n",
    "max_friend = max(total_minutes, key=total_minutes.get)\n",
    "min_friend = min(total_minutes, key=total_minutes.get)\n",
    "\n",
    "print(f\"Friend with the highest workout minutes: {max_friend}\")\n",
    "print(f\"Friend with the lowest workout minutes: {min_friend}\")"
   ]
  },
  {
   "cell_type": "code",
   "execution_count": null,
   "id": "30f6060a-d685-4acb-b44b-bb47e2fbf7bd",
   "metadata": {},
   "outputs": [],
   "source": []
  }
 ],
 "metadata": {
  "kernelspec": {
   "display_name": "Python 3 (ipykernel)",
   "language": "python",
   "name": "python3"
  },
  "language_info": {
   "codemirror_mode": {
    "name": "ipython",
    "version": 3
   },
   "file_extension": ".py",
   "mimetype": "text/x-python",
   "name": "python",
   "nbconvert_exporter": "python",
   "pygments_lexer": "ipython3",
   "version": "3.9.21"
  }
 },
 "nbformat": 4,
 "nbformat_minor": 5
}
